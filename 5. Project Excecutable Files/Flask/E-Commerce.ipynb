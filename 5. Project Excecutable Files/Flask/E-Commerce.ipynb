{
 "cells": [
  {
   "cell_type": "markdown",
   "id": "47f21b4e",
   "metadata": {},
   "source": [
    " \"\"\"Ecommerce shipping prediction is the process of estimating the wheteher the product reached on time. which is  based on various factors such as the origin and destination of the package, the shipping method selected by the customer, the carrier used for shipping, and any potential delays or issues that may arise during the shipping process.\n",
    "Machine learning models can be used to make accurate predictions about shipping times based on historical data and real-time updates from carriers. These models may take into account factors such as weather conditions, traffic, and other external factors that can impact delivery times.\n",
    "Over All Ecommerce shipping prediction is an important tool for ecommerce businesses that want to provide accurate delivery estimates to their customers and improve their overall customer experience.\"\"\"\n"
   ]
  },
  {
   "cell_type": "markdown",
   "id": "a88e6878",
   "metadata": {},
   "source": [
    "# Importing Libraries"
   ]
  },
  {
   "cell_type": "code",
   "execution_count": 3,
   "id": "37ab4fac",
   "metadata": {},
   "outputs": [],
   "source": [
    "import matplotlib.pyplot as plt\n",
    "import pandas as pd\n",
    "import numpy as np\n",
    "import seaborn as sns\n",
    "from sklearn import svm\n",
    "from sklearn.ensemble import RandomForestClassifier as skrfc\n",
    "from sklearn.datasets import make_classification\n",
    "from sklearn.model_selection import train_test_split\n",
    "from sklearn.preprocessing import MinMaxScaler, StandardScaler\n",
    "from sklearn.neighbors import KNeighborsClassifier, KNeighborsRegressor\n",
    "from sklearn.ensemble import RandomForestClassifier, RandomForestRegressor\n",
    "from sklearn.naive_bayes import GaussianNB\n",
    "from sklearn.linear_model import LogisticRegression, LinearRegression, LogisticRegressionCV, SGDClassifier, RidgeClassifier\n",
    "from sklearn.metrics import accuracy_score, r2_score, mean_squared_error, mean_absolute_error, f1_score\n",
    "from sklearn.model_selection import train_test_split, cross_validate, GridSearchCV, RandomizedSearchCV\n",
    "from sklearn.feature_selection import SelectKBest, f_regression\n",
    "from sklearn import svm, linear_model\n",
    "from sklearn.pipeline import make_pipeline\n",
    "from xgboost import XGBClassifier\n",
    "from sklearn.preprocessing import Normalizer\n",
    "from sklearn.ensemble import GradientBoostingRegressor, GradientBoostingClassifier\n",
    "from lightgbm import LGBMClassifier\n",
    "from catboost import CatBoostClassifier\n",
    "from sklearn.tree import DecisionTreeClassifier\n",
    "from sklearn import svm"
   ]
  },
  {
   "cell_type": "code",
   "execution_count": 4,
   "id": "cac28943-17f3-4b18-a9f7-9be3ab24a9dd",
   "metadata": {},
   "outputs": [],
   "source": [
    "from warnings import filterwarnings\n",
    "filterwarnings(\"ignore\", category=DeprecationWarning) \n",
    "filterwarnings(\"ignore\", category=FutureWarning) \n",
    "filterwarnings(\"ignore\", category=UserWarning)\n"
   ]
  },
  {
   "cell_type": "markdown",
   "id": "928608b4",
   "metadata": {},
   "source": [
    "# Loading Data"
   ]
  },
  {
   "cell_type": "code",
   "execution_count": 6,
   "id": "6c6498e9-146b-482b-9e9f-bdf18c468db5",
   "metadata": {},
   "outputs": [
    {
     "data": {
      "text/plain": [
       "'C:\\\\Users\\\\nihit\\\\OneDrive\\\\Documents\\\\My_prjct (E-Commerce_shipping_prediction)'"
      ]
     },
     "execution_count": 6,
     "metadata": {},
     "output_type": "execute_result"
    }
   ],
   "source": [
    "pwd\n"
   ]
  },
  {
   "cell_type": "code",
   "execution_count": 7,
   "id": "bd42b356",
   "metadata": {},
   "outputs": [
    {
     "data": {
      "text/html": [
       "<div>\n",
       "<style scoped>\n",
       "    .dataframe tbody tr th:only-of-type {\n",
       "        vertical-align: middle;\n",
       "    }\n",
       "\n",
       "    .dataframe tbody tr th {\n",
       "        vertical-align: top;\n",
       "    }\n",
       "\n",
       "    .dataframe thead th {\n",
       "        text-align: right;\n",
       "    }\n",
       "</style>\n",
       "<table border=\"1\" class=\"dataframe\">\n",
       "  <thead>\n",
       "    <tr style=\"text-align: right;\">\n",
       "      <th></th>\n",
       "      <th>ID</th>\n",
       "      <th>Warehouse_block</th>\n",
       "      <th>Mode_of_Shipment</th>\n",
       "      <th>Customer_care_calls</th>\n",
       "      <th>Customer_rating</th>\n",
       "      <th>Cost_of_the_Product</th>\n",
       "      <th>Prior_purchases</th>\n",
       "      <th>Product_importance</th>\n",
       "      <th>Gender</th>\n",
       "      <th>Discount_offered</th>\n",
       "      <th>Weight_in_gms</th>\n",
       "      <th>Reached.on.Time_Y.N</th>\n",
       "    </tr>\n",
       "  </thead>\n",
       "  <tbody>\n",
       "    <tr>\n",
       "      <th>0</th>\n",
       "      <td>1</td>\n",
       "      <td>D</td>\n",
       "      <td>Flight</td>\n",
       "      <td>4</td>\n",
       "      <td>2</td>\n",
       "      <td>177</td>\n",
       "      <td>3</td>\n",
       "      <td>low</td>\n",
       "      <td>F</td>\n",
       "      <td>44</td>\n",
       "      <td>1233</td>\n",
       "      <td>1</td>\n",
       "    </tr>\n",
       "    <tr>\n",
       "      <th>1</th>\n",
       "      <td>2</td>\n",
       "      <td>F</td>\n",
       "      <td>Flight</td>\n",
       "      <td>4</td>\n",
       "      <td>5</td>\n",
       "      <td>216</td>\n",
       "      <td>2</td>\n",
       "      <td>low</td>\n",
       "      <td>M</td>\n",
       "      <td>59</td>\n",
       "      <td>3088</td>\n",
       "      <td>1</td>\n",
       "    </tr>\n",
       "    <tr>\n",
       "      <th>2</th>\n",
       "      <td>3</td>\n",
       "      <td>A</td>\n",
       "      <td>Flight</td>\n",
       "      <td>2</td>\n",
       "      <td>2</td>\n",
       "      <td>183</td>\n",
       "      <td>4</td>\n",
       "      <td>low</td>\n",
       "      <td>M</td>\n",
       "      <td>48</td>\n",
       "      <td>3374</td>\n",
       "      <td>1</td>\n",
       "    </tr>\n",
       "    <tr>\n",
       "      <th>3</th>\n",
       "      <td>4</td>\n",
       "      <td>B</td>\n",
       "      <td>Flight</td>\n",
       "      <td>3</td>\n",
       "      <td>3</td>\n",
       "      <td>176</td>\n",
       "      <td>4</td>\n",
       "      <td>medium</td>\n",
       "      <td>M</td>\n",
       "      <td>10</td>\n",
       "      <td>1177</td>\n",
       "      <td>1</td>\n",
       "    </tr>\n",
       "    <tr>\n",
       "      <th>4</th>\n",
       "      <td>5</td>\n",
       "      <td>C</td>\n",
       "      <td>Flight</td>\n",
       "      <td>2</td>\n",
       "      <td>2</td>\n",
       "      <td>184</td>\n",
       "      <td>3</td>\n",
       "      <td>medium</td>\n",
       "      <td>F</td>\n",
       "      <td>46</td>\n",
       "      <td>2484</td>\n",
       "      <td>1</td>\n",
       "    </tr>\n",
       "  </tbody>\n",
       "</table>\n",
       "</div>"
      ],
      "text/plain": [
       "   ID Warehouse_block Mode_of_Shipment  Customer_care_calls  Customer_rating  \\\n",
       "0   1               D           Flight                    4                2   \n",
       "1   2               F           Flight                    4                5   \n",
       "2   3               A           Flight                    2                2   \n",
       "3   4               B           Flight                    3                3   \n",
       "4   5               C           Flight                    2                2   \n",
       "\n",
       "   Cost_of_the_Product  Prior_purchases Product_importance Gender  \\\n",
       "0                  177                3                low      F   \n",
       "1                  216                2                low      M   \n",
       "2                  183                4                low      M   \n",
       "3                  176                4             medium      M   \n",
       "4                  184                3             medium      F   \n",
       "\n",
       "   Discount_offered  Weight_in_gms  Reached.on.Time_Y.N  \n",
       "0                44           1233                    1  \n",
       "1                59           3088                    1  \n",
       "2                48           3374                    1  \n",
       "3                10           1177                    1  \n",
       "4                46           2484                    1  "
      ]
     },
     "execution_count": 7,
     "metadata": {},
     "output_type": "execute_result"
    }
   ],
   "source": [
    "data = pd.read_csv('Train.csv')\n",
    "data.head()"
   ]
  },
  {
   "cell_type": "markdown",
   "id": "5dacf3b5",
   "metadata": {},
   "source": [
    "# Check data"
   ]
  },
  {
   "cell_type": "markdown",
   "id": "4cf7fec0",
   "metadata": {},
   "source": [
    "checking data balance using output feature/ dependent variable classes as it is categorical, Data is balanced"
   ]
  },
  {
   "cell_type": "code",
   "execution_count": 10,
   "id": "6da8b437-3406-413b-901b-600a2faf4862",
   "metadata": {},
   "outputs": [],
   "source": [
    "#As \"ID\"column is not necessary we can drop the \"ID\" column\n",
    "data.drop(\"ID\",inplace=True,axis=1)"
   ]
  },
  {
   "cell_type": "code",
   "execution_count": 11,
   "id": "6b6319a1-53a6-461b-9bd0-ef5be54ced7b",
   "metadata": {},
   "outputs": [
    {
     "name": "stdout",
     "output_type": "stream",
     "text": [
      "<class 'pandas.core.frame.DataFrame'>\n",
      "RangeIndex: 10999 entries, 0 to 10998\n",
      "Data columns (total 11 columns):\n",
      " #   Column               Non-Null Count  Dtype \n",
      "---  ------               --------------  ----- \n",
      " 0   Warehouse_block      10999 non-null  object\n",
      " 1   Mode_of_Shipment     10999 non-null  object\n",
      " 2   Customer_care_calls  10999 non-null  int64 \n",
      " 3   Customer_rating      10999 non-null  int64 \n",
      " 4   Cost_of_the_Product  10999 non-null  int64 \n",
      " 5   Prior_purchases      10999 non-null  int64 \n",
      " 6   Product_importance   10999 non-null  object\n",
      " 7   Gender               10999 non-null  object\n",
      " 8   Discount_offered     10999 non-null  int64 \n",
      " 9   Weight_in_gms        10999 non-null  int64 \n",
      " 10  Reached.on.Time_Y.N  10999 non-null  int64 \n",
      "dtypes: int64(7), object(4)\n",
      "memory usage: 945.4+ KB\n"
     ]
    }
   ],
   "source": [
    "data.info()"
   ]
  },
  {
   "cell_type": "code",
   "execution_count": 12,
   "id": "06bc11bd",
   "metadata": {},
   "outputs": [
    {
     "data": {
      "text/plain": [
       "6563"
      ]
     },
     "execution_count": 12,
     "metadata": {},
     "output_type": "execute_result"
    }
   ],
   "source": [
    "len(data[data['Reached.on.Time_Y.N']==1]['Reached.on.Time_Y.N'])"
   ]
  },
  {
   "cell_type": "code",
   "execution_count": 13,
   "id": "b3b2c88d",
   "metadata": {},
   "outputs": [
    {
     "data": {
      "text/plain": [
       "4436"
      ]
     },
     "execution_count": 13,
     "metadata": {},
     "output_type": "execute_result"
    }
   ],
   "source": [
    "len(data[data['Reached.on.Time_Y.N']==0]['Reached.on.Time_Y.N'])"
   ]
  },
  {
   "cell_type": "markdown",
   "id": "cb518c50-10dd-4dac-bc7c-4d3f15cae76d",
   "metadata": {},
   "source": [
    "# Data Preparation"
   ]
  },
  {
   "cell_type": "markdown",
   "id": "27b8c4f4-0536-4bcd-a1eb-b13d0d19fced",
   "metadata": {},
   "source": [
    "## Handling missing values"
   ]
  },
  {
   "cell_type": "code",
   "execution_count": 16,
   "id": "9e3b74be-7721-4da0-9064-ecd6e5be4f53",
   "metadata": {},
   "outputs": [
    {
     "data": {
      "text/plain": [
       "(10999, 11)"
      ]
     },
     "execution_count": 16,
     "metadata": {},
     "output_type": "execute_result"
    }
   ],
   "source": [
    "data.shape"
   ]
  },
  {
   "cell_type": "code",
   "execution_count": 17,
   "id": "5c24cf22-95a3-46c7-aa97-c67f20571a21",
   "metadata": {},
   "outputs": [
    {
     "data": {
      "text/plain": [
       "Warehouse_block        0\n",
       "Mode_of_Shipment       0\n",
       "Customer_care_calls    0\n",
       "Customer_rating        0\n",
       "Cost_of_the_Product    0\n",
       "Prior_purchases        0\n",
       "Product_importance     0\n",
       "Gender                 0\n",
       "Discount_offered       0\n",
       "Weight_in_gms          0\n",
       "Reached.on.Time_Y.N    0\n",
       "dtype: int64"
      ]
     },
     "execution_count": 17,
     "metadata": {},
     "output_type": "execute_result"
    }
   ],
   "source": [
    "data.isnull().sum()"
   ]
  },
  {
   "cell_type": "markdown",
   "id": "8363d765-c4ae-4e04-8977-f84bbf7774bb",
   "metadata": {},
   "source": [
    "# Exploratory Data Analysis"
   ]
  },
  {
   "cell_type": "code",
   "execution_count": 19,
   "id": "7a131621-8fc6-46c7-b4f9-c59bf85c2b7f",
   "metadata": {},
   "outputs": [
    {
     "data": {
      "text/html": [
       "<div>\n",
       "<style scoped>\n",
       "    .dataframe tbody tr th:only-of-type {\n",
       "        vertical-align: middle;\n",
       "    }\n",
       "\n",
       "    .dataframe tbody tr th {\n",
       "        vertical-align: top;\n",
       "    }\n",
       "\n",
       "    .dataframe thead th {\n",
       "        text-align: right;\n",
       "    }\n",
       "</style>\n",
       "<table border=\"1\" class=\"dataframe\">\n",
       "  <thead>\n",
       "    <tr style=\"text-align: right;\">\n",
       "      <th></th>\n",
       "      <th>Warehouse_block</th>\n",
       "      <th>Mode_of_Shipment</th>\n",
       "      <th>Customer_care_calls</th>\n",
       "      <th>Customer_rating</th>\n",
       "      <th>Cost_of_the_Product</th>\n",
       "      <th>Prior_purchases</th>\n",
       "      <th>Product_importance</th>\n",
       "      <th>Gender</th>\n",
       "      <th>Discount_offered</th>\n",
       "      <th>Weight_in_gms</th>\n",
       "      <th>Reached.on.Time_Y.N</th>\n",
       "    </tr>\n",
       "  </thead>\n",
       "  <tbody>\n",
       "    <tr>\n",
       "      <th>count</th>\n",
       "      <td>10999</td>\n",
       "      <td>10999</td>\n",
       "      <td>10999.000000</td>\n",
       "      <td>10999.000000</td>\n",
       "      <td>10999.000000</td>\n",
       "      <td>10999.000000</td>\n",
       "      <td>10999</td>\n",
       "      <td>10999</td>\n",
       "      <td>10999.000000</td>\n",
       "      <td>10999.000000</td>\n",
       "      <td>10999.000000</td>\n",
       "    </tr>\n",
       "    <tr>\n",
       "      <th>unique</th>\n",
       "      <td>5</td>\n",
       "      <td>3</td>\n",
       "      <td>NaN</td>\n",
       "      <td>NaN</td>\n",
       "      <td>NaN</td>\n",
       "      <td>NaN</td>\n",
       "      <td>3</td>\n",
       "      <td>2</td>\n",
       "      <td>NaN</td>\n",
       "      <td>NaN</td>\n",
       "      <td>NaN</td>\n",
       "    </tr>\n",
       "    <tr>\n",
       "      <th>top</th>\n",
       "      <td>F</td>\n",
       "      <td>Ship</td>\n",
       "      <td>NaN</td>\n",
       "      <td>NaN</td>\n",
       "      <td>NaN</td>\n",
       "      <td>NaN</td>\n",
       "      <td>low</td>\n",
       "      <td>F</td>\n",
       "      <td>NaN</td>\n",
       "      <td>NaN</td>\n",
       "      <td>NaN</td>\n",
       "    </tr>\n",
       "    <tr>\n",
       "      <th>freq</th>\n",
       "      <td>3666</td>\n",
       "      <td>7462</td>\n",
       "      <td>NaN</td>\n",
       "      <td>NaN</td>\n",
       "      <td>NaN</td>\n",
       "      <td>NaN</td>\n",
       "      <td>5297</td>\n",
       "      <td>5545</td>\n",
       "      <td>NaN</td>\n",
       "      <td>NaN</td>\n",
       "      <td>NaN</td>\n",
       "    </tr>\n",
       "    <tr>\n",
       "      <th>mean</th>\n",
       "      <td>NaN</td>\n",
       "      <td>NaN</td>\n",
       "      <td>4.054459</td>\n",
       "      <td>2.990545</td>\n",
       "      <td>210.196836</td>\n",
       "      <td>3.567597</td>\n",
       "      <td>NaN</td>\n",
       "      <td>NaN</td>\n",
       "      <td>13.373216</td>\n",
       "      <td>3634.016729</td>\n",
       "      <td>0.596691</td>\n",
       "    </tr>\n",
       "    <tr>\n",
       "      <th>std</th>\n",
       "      <td>NaN</td>\n",
       "      <td>NaN</td>\n",
       "      <td>1.141490</td>\n",
       "      <td>1.413603</td>\n",
       "      <td>48.063272</td>\n",
       "      <td>1.522860</td>\n",
       "      <td>NaN</td>\n",
       "      <td>NaN</td>\n",
       "      <td>16.205527</td>\n",
       "      <td>1635.377251</td>\n",
       "      <td>0.490584</td>\n",
       "    </tr>\n",
       "    <tr>\n",
       "      <th>min</th>\n",
       "      <td>NaN</td>\n",
       "      <td>NaN</td>\n",
       "      <td>2.000000</td>\n",
       "      <td>1.000000</td>\n",
       "      <td>96.000000</td>\n",
       "      <td>2.000000</td>\n",
       "      <td>NaN</td>\n",
       "      <td>NaN</td>\n",
       "      <td>1.000000</td>\n",
       "      <td>1001.000000</td>\n",
       "      <td>0.000000</td>\n",
       "    </tr>\n",
       "    <tr>\n",
       "      <th>25%</th>\n",
       "      <td>NaN</td>\n",
       "      <td>NaN</td>\n",
       "      <td>3.000000</td>\n",
       "      <td>2.000000</td>\n",
       "      <td>169.000000</td>\n",
       "      <td>3.000000</td>\n",
       "      <td>NaN</td>\n",
       "      <td>NaN</td>\n",
       "      <td>4.000000</td>\n",
       "      <td>1839.500000</td>\n",
       "      <td>0.000000</td>\n",
       "    </tr>\n",
       "    <tr>\n",
       "      <th>50%</th>\n",
       "      <td>NaN</td>\n",
       "      <td>NaN</td>\n",
       "      <td>4.000000</td>\n",
       "      <td>3.000000</td>\n",
       "      <td>214.000000</td>\n",
       "      <td>3.000000</td>\n",
       "      <td>NaN</td>\n",
       "      <td>NaN</td>\n",
       "      <td>7.000000</td>\n",
       "      <td>4149.000000</td>\n",
       "      <td>1.000000</td>\n",
       "    </tr>\n",
       "    <tr>\n",
       "      <th>75%</th>\n",
       "      <td>NaN</td>\n",
       "      <td>NaN</td>\n",
       "      <td>5.000000</td>\n",
       "      <td>4.000000</td>\n",
       "      <td>251.000000</td>\n",
       "      <td>4.000000</td>\n",
       "      <td>NaN</td>\n",
       "      <td>NaN</td>\n",
       "      <td>10.000000</td>\n",
       "      <td>5050.000000</td>\n",
       "      <td>1.000000</td>\n",
       "    </tr>\n",
       "    <tr>\n",
       "      <th>max</th>\n",
       "      <td>NaN</td>\n",
       "      <td>NaN</td>\n",
       "      <td>7.000000</td>\n",
       "      <td>5.000000</td>\n",
       "      <td>310.000000</td>\n",
       "      <td>10.000000</td>\n",
       "      <td>NaN</td>\n",
       "      <td>NaN</td>\n",
       "      <td>65.000000</td>\n",
       "      <td>7846.000000</td>\n",
       "      <td>1.000000</td>\n",
       "    </tr>\n",
       "  </tbody>\n",
       "</table>\n",
       "</div>"
      ],
      "text/plain": [
       "       Warehouse_block Mode_of_Shipment  Customer_care_calls  Customer_rating  \\\n",
       "count            10999            10999         10999.000000     10999.000000   \n",
       "unique               5                3                  NaN              NaN   \n",
       "top                  F             Ship                  NaN              NaN   \n",
       "freq              3666             7462                  NaN              NaN   \n",
       "mean               NaN              NaN             4.054459         2.990545   \n",
       "std                NaN              NaN             1.141490         1.413603   \n",
       "min                NaN              NaN             2.000000         1.000000   \n",
       "25%                NaN              NaN             3.000000         2.000000   \n",
       "50%                NaN              NaN             4.000000         3.000000   \n",
       "75%                NaN              NaN             5.000000         4.000000   \n",
       "max                NaN              NaN             7.000000         5.000000   \n",
       "\n",
       "        Cost_of_the_Product  Prior_purchases Product_importance Gender  \\\n",
       "count          10999.000000     10999.000000              10999  10999   \n",
       "unique                  NaN              NaN                  3      2   \n",
       "top                     NaN              NaN                low      F   \n",
       "freq                    NaN              NaN               5297   5545   \n",
       "mean             210.196836         3.567597                NaN    NaN   \n",
       "std               48.063272         1.522860                NaN    NaN   \n",
       "min               96.000000         2.000000                NaN    NaN   \n",
       "25%              169.000000         3.000000                NaN    NaN   \n",
       "50%              214.000000         3.000000                NaN    NaN   \n",
       "75%              251.000000         4.000000                NaN    NaN   \n",
       "max              310.000000        10.000000                NaN    NaN   \n",
       "\n",
       "        Discount_offered  Weight_in_gms  Reached.on.Time_Y.N  \n",
       "count       10999.000000   10999.000000         10999.000000  \n",
       "unique               NaN            NaN                  NaN  \n",
       "top                  NaN            NaN                  NaN  \n",
       "freq                 NaN            NaN                  NaN  \n",
       "mean           13.373216    3634.016729             0.596691  \n",
       "std            16.205527    1635.377251             0.490584  \n",
       "min             1.000000    1001.000000             0.000000  \n",
       "25%             4.000000    1839.500000             0.000000  \n",
       "50%             7.000000    4149.000000             1.000000  \n",
       "75%            10.000000    5050.000000             1.000000  \n",
       "max            65.000000    7846.000000             1.000000  "
      ]
     },
     "execution_count": 19,
     "metadata": {},
     "output_type": "execute_result"
    }
   ],
   "source": [
    "#Descriptive statistics\n",
    "data.describe(include='all')"
   ]
  },
  {
   "cell_type": "markdown",
   "id": "0158089a-e315-46e3-b995-430f6b97545b",
   "metadata": {},
   "source": [
    "## Visual Analysis"
   ]
  },
  {
   "cell_type": "markdown",
   "id": "a07d3f46-c629-40ff-8450-62bb91bb4bf2",
   "metadata": {},
   "source": [
    "### Univariate Analysis"
   ]
  },
  {
   "cell_type": "code",
   "execution_count": 22,
   "id": "fa89dd92-8c8c-417e-a390-707910738278",
   "metadata": {},
   "outputs": [
    {
     "data": {
      "image/png": "[encoded data removed]",
      "text/plain": [
       "<Figure size 1800x1000 with 4 Axes>"
      ]
     },
     "metadata": {},
     "output_type": "display_data"
    }
   ],
   "source": [
    "# Display value distributions\n",
    "plt.figure(figsize=(18, 10))\n",
    "colors = sns.color_palette()\n",
    "num_features = data.select_dtypes('object').columns.values\n",
    "\n",
    "for i, num in enumerate(num_features):\n",
    "\n",
    "    plt.subplot(2, 2, i+1)\n",
    "    sns.histplot(data[num],color=colors[i],shrink=0.8)\n",
    "    \n",
    "plt.show()"
   ]
  },
  {
   "cell_type": "code",
   "execution_count": 23,
   "id": "72841bd1-983e-4f05-80bf-56c1e3342444",
   "metadata": {},
   "outputs": [
    {
     "data": {
      "text/plain": [
       "array(['Warehouse_block', 'Mode_of_Shipment', 'Product_importance',\n",
       "       'Gender'], dtype=object)"
      ]
     },
     "execution_count": 23,
     "metadata": {},
     "output_type": "execute_result"
    }
   ],
   "source": [
    "num_features"
   ]
  },
  {
   "cell_type": "code",
   "execution_count": 24,
   "id": "8cce0b79-dfe1-45d1-85e0-7f88393d30c3",
   "metadata": {},
   "outputs": [
    {
     "data": {
      "image/png": "[encoded data removed]",
      "text/plain": [
       "<Figure size 1800x1000 with 6 Axes>"
      ]
     },
     "metadata": {},
     "output_type": "display_data"
    }
   ],
   "source": [
    "# Display value distributions\n",
    "plt.figure(figsize=(18, 10))\n",
    "colors = sns.color_palette()\n",
    "num_features = data.select_dtypes('number').drop(columns=['Reached.on.Time_Y.N']).columns.values\n",
    "\n",
    "for i, num in enumerate(num_features):\n",
    "\n",
    "    plt.subplot(2, 3, i+1)\n",
    "    sns.histplot(data[num],color=colors[i],shrink=0.6)\n",
    "    \n",
    "plt.show()"
   ]
  },
  {
   "cell_type": "markdown",
   "id": "dedb2e78-a66e-433a-9bbe-2da4b125e9fa",
   "metadata": {},
   "source": [
    "### Bivariate Analysis"
   ]
  },
  {
   "cell_type": "code",
   "execution_count": 26,
   "id": "28046f99-77c1-4b44-82f6-2d3d206f2289",
   "metadata": {},
   "outputs": [
    {
     "data": {
      "image/png": "[encoded data removed]",
      "text/plain": [
       "<Figure size 1800x1000 with 6 Axes>"
      ]
     },
     "metadata": {},
     "output_type": "display_data"
    }
   ],
   "source": [
    "c=0\n",
    "plt.figure(figsize=(18,10))\n",
    "for i in data.drop(columns=['Warehouse_block','Mode_of_Shipment','Product_importance','Gender','Reached.on.Time_Y.N']).columns:\n",
    "    if str(data[i].dtype)=='object':\n",
    "        continue\n",
    "    if c >= 6:\n",
    "        break\n",
    "    plt.subplot(2,3,c+1)\n",
    "    plt.boxplot(data[i])\n",
    "    plt.title(i)\n",
    "    c+=1\n",
    "plt.show()"
   ]
  },
  {
   "cell_type": "markdown",
   "id": "6dee59fe-cce2-457b-a14a-fd4583e37118",
   "metadata": {},
   "source": [
    "### Multivariate Analysis"
   ]
  },
  {
   "cell_type": "code",
   "execution_count": 28,
   "id": "04ea6a0a-c98a-45e7-9e4a-2ca4b6eaadc3",
   "metadata": {},
   "outputs": [
    {
     "data": {
      "image/png": "[encoded data removed]",
      "text/plain": [
       "<Figure size 1400x1000 with 2 Axes>"
      ]
     },
     "metadata": {},
     "output_type": "display_data"
    }
   ],
   "source": [
    "numeric_data = data.select_dtypes(include=[np.number])\n",
    "plt.figure(figsize=(14,10))\n",
    "sns.heatmap(numeric_data.corr(), annot=True)\n",
    "plt.show()"
   ]
  },
  {
   "cell_type": "markdown",
   "id": "13867fa5",
   "metadata": {},
   "source": [
    "### Normality"
   ]
  },
  {
   "cell_type": "code",
   "execution_count": 30,
   "id": "b87c65d9-69b1-433f-9681-3336bd399ebc",
   "metadata": {},
   "outputs": [],
   "source": [
    "df = data.select_dtypes(include=[\"float64\",\"int64\",\"int32\"])\n",
    "# for mathematical analysis, to guarantee even though it is not necessary"
   ]
  },
  {
   "cell_type": "code",
   "execution_count": 31,
   "id": "504b306b-b08a-4aec-a89e-57196d91cd5f",
   "metadata": {},
   "outputs": [
    {
     "name": "stdout",
     "output_type": "stream",
     "text": [
      "Customer_care_calls\n",
      "---------------\n",
      "0.9180 - 0.0000\n",
      "---------------------------------------------\n",
      "Customer_rating\n",
      "---------------\n",
      "0.8882 - 0.0000\n",
      "---------------------------------------------\n",
      "Cost_of_the_Product\n",
      "---------------\n",
      "0.9725 - 0.0000\n",
      "---------------------------------------------\n",
      "Prior_purchases\n",
      "---------------\n",
      "0.8183 - 0.0000\n",
      "---------------------------------------------\n",
      "Discount_offered\n",
      "---------------\n",
      "0.6889 - 0.0000\n",
      "---------------------------------------------\n",
      "Weight_in_gms\n",
      "---------------\n",
      "0.8976 - 0.0000\n",
      "---------------------------------------------\n",
      "Reached.on.Time_Y.N\n",
      "---------------\n",
      "0.6230 - 0.0000\n",
      "---------------------------------------------\n"
     ]
    }
   ],
   "source": [
    "from scipy.stats import shapiro\n",
    "for i in df.columns:\n",
    "    print(i)\n",
    "    print(\"---\"*5)\n",
    "    print(\"%.4f - %.4f\" % shapiro(data[i]))\n",
    "    print(\"---\"*15)"
   ]
  },
  {
   "cell_type": "markdown",
   "id": "3b30e5cf-383a-494c-8326-0739e02bc0fc",
   "metadata": {},
   "source": [
    "### HOMOGENEITY\n"
   ]
  },
  {
   "cell_type": "code",
   "execution_count": 33,
   "id": "99353953-419e-4de4-b683-e6101e38a27c",
   "metadata": {},
   "outputs": [
    {
     "name": "stdout",
     "output_type": "stream",
     "text": [
      "19674.4067 - 0.0000\n"
     ]
    }
   ],
   "source": [
    "from scipy.stats import levene\n",
    "print(\"%.4f - %.4f\" % levene(data[\"Cost_of_the_Product\"],data[\"Customer_rating\"],\n",
    "                            data[\"Discount_offered\"],data[\"Reached.on.Time_Y.N\"]))"
   ]
  },
  {
   "cell_type": "code",
   "execution_count": 34,
   "id": "3bce4fb2-8098-4c41-b344-4a0f8920b4be",
   "metadata": {},
   "outputs": [
    {
     "name": "stdout",
     "output_type": "stream",
     "text": [
      "29871.8239 - 0.0000\n"
     ]
    }
   ],
   "source": [
    "print(\"%.4f - %.4f\" % levene(data[\"Cost_of_the_Product\"],data[\"Reached.on.Time_Y.N\"]))"
   ]
  },
  {
   "cell_type": "code",
   "execution_count": 35,
   "id": "d476105c-fc78-4ff8-ac67-cc29cddba41f",
   "metadata": {},
   "outputs": [
    {
     "name": "stdout",
     "output_type": "stream",
     "text": [
      "8596.2919 - 0.0000\n"
     ]
    }
   ],
   "source": [
    "print(\"%.4f - %.4f\" % levene(data[\"Customer_rating\"],data[\"Reached.on.Time_Y.N\"]))"
   ]
  },
  {
   "cell_type": "code",
   "execution_count": 36,
   "id": "54385b80-4468-4d92-93e7-2c5e4c7fd451",
   "metadata": {},
   "outputs": [
    {
     "name": "stdout",
     "output_type": "stream",
     "text": [
      "4351.4195 - 0.0000\n"
     ]
    }
   ],
   "source": [
    "print(\"%.4f - %.4f\" % levene(data[\"Discount_offered\"],data[\"Reached.on.Time_Y.N\"]))"
   ]
  },
  {
   "cell_type": "markdown",
   "id": "be9d9340-7d49-4961-809d-bb776602ed65",
   "metadata": {},
   "source": [
    "## Handling catogorical values(Encoding)"
   ]
  },
  {
   "cell_type": "code",
   "execution_count": 38,
   "id": "14504788",
   "metadata": {},
   "outputs": [
    {
     "name": "stdout",
     "output_type": "stream",
     "text": [
      "Index(['Warehouse_block', 'Mode_of_Shipment', 'Product_importance', 'Gender'], dtype='object')\n"
     ]
    }
   ],
   "source": [
    "from sklearn.preprocessing import LabelEncoder\n",
    "\n",
    "encode = LabelEncoder()\n",
    "objectcolumns = data.select_dtypes(include=[\"object\"])\n",
    "print(objectcolumns.columns)\n"
   ]
  },
  {
   "cell_type": "code",
   "execution_count": 39,
   "id": "fbcaebbf-8b43-46b2-842f-91400d2b0df4",
   "metadata": {},
   "outputs": [],
   "source": [
    "for a in objectcolumns:\n",
    "    data[a] = encode.fit_transform(data[a])"
   ]
  },
  {
   "cell_type": "code",
   "execution_count": 40,
   "id": "aec9933e-c8bf-4ed1-a201-656cddd12018",
   "metadata": {},
   "outputs": [
    {
     "name": "stdout",
     "output_type": "stream",
     "text": [
      "<class 'pandas.core.frame.DataFrame'>\n",
      "RangeIndex: 10999 entries, 0 to 10998\n",
      "Data columns (total 11 columns):\n",
      " #   Column               Non-Null Count  Dtype\n",
      "---  ------               --------------  -----\n",
      " 0   Warehouse_block      10999 non-null  int32\n",
      " 1   Mode_of_Shipment     10999 non-null  int32\n",
      " 2   Customer_care_calls  10999 non-null  int64\n",
      " 3   Customer_rating      10999 non-null  int64\n",
      " 4   Cost_of_the_Product  10999 non-null  int64\n",
      " 5   Prior_purchases      10999 non-null  int64\n",
      " 6   Product_importance   10999 non-null  int32\n",
      " 7   Gender               10999 non-null  int32\n",
      " 8   Discount_offered     10999 non-null  int64\n",
      " 9   Weight_in_gms        10999 non-null  int64\n",
      " 10  Reached.on.Time_Y.N  10999 non-null  int64\n",
      "dtypes: int32(4), int64(7)\n",
      "memory usage: 773.5 KB\n"
     ]
    }
   ],
   "source": [
    "data.info()"
   ]
  },
  {
   "cell_type": "code",
   "execution_count": 41,
   "id": "46462dea",
   "metadata": {},
   "outputs": [
    {
     "data": {
      "text/html": [
       "<div>\n",
       "<style scoped>\n",
       "    .dataframe tbody tr th:only-of-type {\n",
       "        vertical-align: middle;\n",
       "    }\n",
       "\n",
       "    .dataframe tbody tr th {\n",
       "        vertical-align: top;\n",
       "    }\n",
       "\n",
       "    .dataframe thead th {\n",
       "        text-align: right;\n",
       "    }\n",
       "</style>\n",
       "<table border=\"1\" class=\"dataframe\">\n",
       "  <thead>\n",
       "    <tr style=\"text-align: right;\">\n",
       "      <th></th>\n",
       "      <th>Warehouse_block</th>\n",
       "      <th>Mode_of_Shipment</th>\n",
       "      <th>Customer_care_calls</th>\n",
       "      <th>Customer_rating</th>\n",
       "      <th>Cost_of_the_Product</th>\n",
       "      <th>Prior_purchases</th>\n",
       "      <th>Product_importance</th>\n",
       "      <th>Gender</th>\n",
       "      <th>Discount_offered</th>\n",
       "      <th>Weight_in_gms</th>\n",
       "      <th>Reached.on.Time_Y.N</th>\n",
       "    </tr>\n",
       "  </thead>\n",
       "  <tbody>\n",
       "    <tr>\n",
       "      <th>0</th>\n",
       "      <td>3</td>\n",
       "      <td>0</td>\n",
       "      <td>4</td>\n",
       "      <td>2</td>\n",
       "      <td>177</td>\n",
       "      <td>3</td>\n",
       "      <td>1</td>\n",
       "      <td>0</td>\n",
       "      <td>44</td>\n",
       "      <td>1233</td>\n",
       "      <td>1</td>\n",
       "    </tr>\n",
       "    <tr>\n",
       "      <th>1</th>\n",
       "      <td>4</td>\n",
       "      <td>0</td>\n",
       "      <td>4</td>\n",
       "      <td>5</td>\n",
       "      <td>216</td>\n",
       "      <td>2</td>\n",
       "      <td>1</td>\n",
       "      <td>1</td>\n",
       "      <td>59</td>\n",
       "      <td>3088</td>\n",
       "      <td>1</td>\n",
       "    </tr>\n",
       "    <tr>\n",
       "      <th>2</th>\n",
       "      <td>0</td>\n",
       "      <td>0</td>\n",
       "      <td>2</td>\n",
       "      <td>2</td>\n",
       "      <td>183</td>\n",
       "      <td>4</td>\n",
       "      <td>1</td>\n",
       "      <td>1</td>\n",
       "      <td>48</td>\n",
       "      <td>3374</td>\n",
       "      <td>1</td>\n",
       "    </tr>\n",
       "    <tr>\n",
       "      <th>3</th>\n",
       "      <td>1</td>\n",
       "      <td>0</td>\n",
       "      <td>3</td>\n",
       "      <td>3</td>\n",
       "      <td>176</td>\n",
       "      <td>4</td>\n",
       "      <td>2</td>\n",
       "      <td>1</td>\n",
       "      <td>10</td>\n",
       "      <td>1177</td>\n",
       "      <td>1</td>\n",
       "    </tr>\n",
       "    <tr>\n",
       "      <th>4</th>\n",
       "      <td>2</td>\n",
       "      <td>0</td>\n",
       "      <td>2</td>\n",
       "      <td>2</td>\n",
       "      <td>184</td>\n",
       "      <td>3</td>\n",
       "      <td>2</td>\n",
       "      <td>0</td>\n",
       "      <td>46</td>\n",
       "      <td>2484</td>\n",
       "      <td>1</td>\n",
       "    </tr>\n",
       "  </tbody>\n",
       "</table>\n",
       "</div>"
      ],
      "text/plain": [
       "   Warehouse_block  Mode_of_Shipment  Customer_care_calls  Customer_rating  \\\n",
       "0                3                 0                    4                2   \n",
       "1                4                 0                    4                5   \n",
       "2                0                 0                    2                2   \n",
       "3                1                 0                    3                3   \n",
       "4                2                 0                    2                2   \n",
       "\n",
       "   Cost_of_the_Product  Prior_purchases  Product_importance  Gender  \\\n",
       "0                  177                3                   1       0   \n",
       "1                  216                2                   1       1   \n",
       "2                  183                4                   1       1   \n",
       "3                  176                4                   2       1   \n",
       "4                  184                3                   2       0   \n",
       "\n",
       "   Discount_offered  Weight_in_gms  Reached.on.Time_Y.N  \n",
       "0                44           1233                    1  \n",
       "1                59           3088                    1  \n",
       "2                48           3374                    1  \n",
       "3                10           1177                    1  \n",
       "4                46           2484                    1  "
      ]
     },
     "execution_count": 41,
     "metadata": {},
     "output_type": "execute_result"
    }
   ],
   "source": [
    "data.head()"
   ]
  },
  {
   "cell_type": "markdown",
   "id": "d7f09c7d",
   "metadata": {},
   "source": [
    "# handling and Checking for outliers"
   ]
  },
  {
   "cell_type": "code",
   "execution_count": 43,
   "id": "cf6b0572",
   "metadata": {},
   "outputs": [
    {
     "name": "stdout",
     "output_type": "stream",
     "text": [
      "Initial number of rows: 10999\n",
      "Customer_care_calls\n",
      "    0 are over the upper bound: 8.0\n",
      "    0 are less than the lower bound: 0.0 \n",
      "\n",
      "Customer_rating\n",
      "    0 are over the upper bound: 7.0\n",
      "    0 are less than the lower bound: -1.0 \n",
      "\n",
      "Cost_of_the_Product\n",
      "    0 are over the upper bound: 374.0\n",
      "    0 are less than the lower bound: 46.0 \n",
      "\n",
      "Prior_purchases\n",
      "    1003 are over the upper bound: 5.5\n",
      "    0 are less than the lower bound: 1.5 \n",
      "\n",
      "Discount_offered\n",
      "    2262 are over the upper bound: 19.0\n",
      "    0 are less than the lower bound: -5.0 \n",
      "\n",
      "Weight_in_gms\n",
      "    0 are over the upper bound: 9865.75\n",
      "    0 are less than the lower bound: -2976.25 \n",
      "\n"
     ]
    }
   ],
   "source": [
    "def check_outliers(arr):\n",
    "    Q1 = np.percentile(arr, 25,interpolation = 'midpoint')\n",
    "    Q3 = np.percentile(arr, 75,interpolation = 'midpoint')\n",
    "    IQR = Q3 - Q1\n",
    "    \n",
    "    #Above Upper bound\n",
    "    upper=Q3+1.5*IQR\n",
    "    upper_array=np.array(arr>=upper)\n",
    "    print(' '*3,len(upper_array[upper_array == True]),'are over the upper bound:',upper)\n",
    "\n",
    "    #Below Lower bound\n",
    "    lower=Q1-1.5*IQR\n",
    "    lower_array=np.array(arr<=lower)\n",
    "    print(' '*3,len(lower_array[lower_array == True]),'are less than the lower bound:',lower,'\\n')\n",
    "#checking initial number of rows\n",
    "initial_rows=data.shape[0]\n",
    "print(f\"Initial number of rows: {initial_rows}\")\n",
    "for i in data.drop(columns=[\n",
    "                            'Warehouse_block','Mode_of_Shipment','Product_importance','Gender','Reached.on.Time_Y.N']).columns:\n",
    "    if str(data[i].dtype)=='object':\n",
    "        continue\n",
    "    print(i)\n",
    "    check_outliers(data[i])"
   ]
  },
  {
   "cell_type": "code",
   "execution_count": 44,
   "id": "b8e8a4cc-2b10-4bcd-baa5-681207b94a24",
   "metadata": {},
   "outputs": [
    {
     "name": "stdout",
     "output_type": "stream",
     "text": [
      "[-49.23420001 -45.83305039 -44.90793785 -43.80881891 -39.87437401\n",
      " -23.44503825  -4.7196879   -3.42435176  -3.37610349  -3.20090154\n",
      "  -3.06223813  -2.86920018  -2.78754054  -2.74031948  -2.5840874\n",
      "  -2.53241128  -2.51965873  -2.49954423  -2.45206587  -2.22651546\n",
      "  -2.19794237  -2.14941097  -2.08814005  -2.07886447  -2.05597358\n",
      "  -2.04178282  -1.85543019  -1.81595265  -1.79030482  -1.78492262\n",
      "  -1.78367328  -1.78196285  -1.74562079  -1.72837548  -1.71070166\n",
      "  -1.70775564  -1.69162048  -1.68935852  -1.68902088  -1.68238855\n",
      "  -1.67774099  -1.66262386  -1.63914729  -1.63399915  -1.63292157\n",
      "  -1.63241874  -1.62371866  -1.62080133  -1.61929576  -1.61737996]\n",
      "-4.7196878981741435\n",
      "------------------------------\n",
      "     Warehouse_block  Mode_of_Shipment  Customer_care_calls  Customer_rating  \\\n",
      "251                4                 1                    2                2   \n",
      "\n",
      "     Cost_of_the_Product  Prior_purchases  Product_importance  Gender  \\\n",
      "251                  145                3                   2       0   \n",
      "\n",
      "     Discount_offered  Weight_in_gms  Reached.on.Time_Y.N  \n",
      "251                 5           6102                    1  \n"
     ]
    }
   ],
   "source": [
    "from sklearn.neighbors import LocalOutlierFactor\n",
    "DataForA = data.copy()\n",
    "# to protect main\n",
    "clf = LocalOutlierFactor()\n",
    "clf.fit_predict(DataForA)\n",
    "score = clf.negative_outlier_factor_\n",
    "scoreSorted = np.sort(score)\n",
    "print(scoreSorted[0:50])\n",
    "# checking outlier, look where the biggest jump took place\n",
    "# we can identify 6.index as point\n",
    "point = scoreSorted[6]\n",
    "print(point)\n",
    "print(\"---\"*10)\n",
    "print(DataForA[score == point])"
   ]
  },
  {
   "cell_type": "code",
   "execution_count": 45,
   "id": "62484c66-18c2-41dd-8c8b-32733ed9f1e5",
   "metadata": {},
   "outputs": [
    {
     "name": "stdout",
     "output_type": "stream",
     "text": [
      "     Warehouse_block  Mode_of_Shipment  Customer_care_calls  Customer_rating  \\\n",
      "198                3                 2                    2                3   \n",
      "199                4                 2                    2                2   \n",
      "205                4                 2                    2                3   \n",
      "213                1                 2                    2                5   \n",
      "245                4                 2                    2                4   \n",
      "257                4                 1                    2                2   \n",
      "\n",
      "     Cost_of_the_Product  Prior_purchases  Product_importance  Gender  \\\n",
      "198                  142                3                   2       0   \n",
      "199                  154                3                   2       1   \n",
      "205                  145                3                   2       0   \n",
      "213                  160                3                   2       0   \n",
      "245                  154                3                   2       0   \n",
      "257                  129                3                   2       0   \n",
      "\n",
      "     Discount_offered  Weight_in_gms  Reached.on.Time_Y.N  \n",
      "198                38           7640                    1  \n",
      "199                38           7846                    1  \n",
      "205                24           7588                    1  \n",
      "213                31           7401                    1  \n",
      "245                48           7684                    1  \n",
      "257                22           6614                    1  \n",
      "------------------------------------------------------------\n",
      "Index([198, 199, 205, 213, 245, 257], dtype='int64')\n"
     ]
    }
   ],
   "source": [
    "outliers = score < point\n",
    "print(data[outliers])\n",
    "print(\"---\"*20)\n",
    "print(data[outliers].index)"
   ]
  },
  {
   "cell_type": "code",
   "execution_count": 46,
   "id": "d2d44184-c938-425d-b07f-cad5ed58f7dc",
   "metadata": {},
   "outputs": [
    {
     "name": "stdout",
     "output_type": "stream",
     "text": [
      "<class 'list'>\n"
     ]
    }
   ],
   "source": [
    "#Deleting\n",
    "outliersIndexList = [data[outliers].index]\n",
    "print(type(outliersIndexList))"
   ]
  },
  {
   "cell_type": "code",
   "execution_count": 47,
   "id": "8277d227-f77a-4ff2-9454-d35176ce267e",
   "metadata": {},
   "outputs": [],
   "source": [
    "for d in outliersIndexList:\n",
    "    data.drop(index=d,inplace=True)"
   ]
  },
  {
   "cell_type": "code",
   "execution_count": 48,
   "id": "f77ff411-eca0-4d99-9c95-677323abf4f3",
   "metadata": {},
   "outputs": [
    {
     "data": {
      "text/plain": [
       "(10993, 11)"
      ]
     },
     "execution_count": 48,
     "metadata": {},
     "output_type": "execute_result"
    }
   ],
   "source": [
    "data.shape"
   ]
  },
  {
   "cell_type": "code",
   "execution_count": null,
   "id": "440d521d-e891-4236-9f42-c1bec433b889",
   "metadata": {},
   "outputs": [],
   "source": []
  },
  {
   "cell_type": "markdown",
   "id": "a0cd3dab-f61b-4e37-9b33-fd380630d206",
   "metadata": {},
   "source": [
    "# Standardization"
   ]
  },
  {
   "cell_type": "code",
   "execution_count": 50,
   "id": "a889430b-d003-436f-9051-597390958a32",
   "metadata": {},
   "outputs": [],
   "source": [
    "import statsmodels.stats.api as sms"
   ]
  },
  {
   "cell_type": "code",
   "execution_count": 51,
   "id": "a8d54714-6783-44be-a074-672baed2f9a2",
   "metadata": {},
   "outputs": [
    {
     "name": "stdout",
     "output_type": "stream",
     "text": [
      "0    3\n",
      "Name: Customer_rating, dtype: int64\n",
      "5\n",
      "1\n",
      "2.990448467206404\n",
      "(2.9640174157017847, 3.0168795187110233)\n"
     ]
    }
   ],
   "source": [
    "#for Customer_rating\n",
    "print(data[\"Customer_rating\"].mode())\n",
    "print(data[\"Customer_rating\"].max())\n",
    "print(data[\"Customer_rating\"].min())\n",
    "print(data[\"Customer_rating\"].mean())\n",
    "print(sms.DescrStatsW(data[\"Customer_rating\"]).tconfint_mean())"
   ]
  },
  {
   "cell_type": "code",
   "execution_count": 52,
   "id": "de31f96c-5821-4322-b848-c50a1ad4a9ca",
   "metadata": {},
   "outputs": [],
   "source": [
    "def func(x):\n",
    "    if x < 2.99:\n",
    "        return \"BAD\"\n",
    "    else:\n",
    "        return \"GOOD\""
   ]
  },
  {
   "cell_type": "code",
   "execution_count": 53,
   "id": "1b34fe77-2143-48ae-b9ab-522ea256da6f",
   "metadata": {},
   "outputs": [],
   "source": [
    "data[\"Customer_rating\"] = data[\"Customer_rating\"].apply(lambda x: func(x))"
   ]
  },
  {
   "cell_type": "code",
   "execution_count": 54,
   "id": "203d5741-2ae6-4e52-80a7-ef826850b2c4",
   "metadata": {},
   "outputs": [
    {
     "name": "stdout",
     "output_type": "stream",
     "text": [
      "Customer_rating\n",
      "GOOD    6595\n",
      "BAD     4398\n",
      "Name: count, dtype: int64\n"
     ]
    }
   ],
   "source": [
    "print(data[\"Customer_rating\"].value_counts())"
   ]
  },
  {
   "cell_type": "code",
   "execution_count": 55,
   "id": "245cc654-3145-444f-aaad-31f70ac67058",
   "metadata": {},
   "outputs": [],
   "source": [
    "data[\"Customer_rating\"] = encode.fit_transform(data[\"Customer_rating\"])"
   ]
  },
  {
   "cell_type": "code",
   "execution_count": 56,
   "id": "9fb37435-d081-4040-93ae-0f6feac08180",
   "metadata": {},
   "outputs": [
    {
     "name": "stdout",
     "output_type": "stream",
     "text": [
      "Customer_rating\n",
      "1    6595\n",
      "0    4398\n",
      "Name: count, dtype: int64\n"
     ]
    }
   ],
   "source": [
    "print(data[\"Customer_rating\"].value_counts())"
   ]
  },
  {
   "cell_type": "code",
   "execution_count": 57,
   "id": "cbcc9c15-ae8c-4549-86fc-88eb8aeedd1a",
   "metadata": {},
   "outputs": [
    {
     "name": "stdout",
     "output_type": "stream",
     "text": [
      "0    10\n",
      "Name: Discount_offered, dtype: int64\n",
      "65\n",
      "1\n",
      "13.362230510324752\n",
      "(13.059329677044607, 13.665131343604896)\n"
     ]
    }
   ],
   "source": [
    "#for Discount_offered\n",
    "print(data[\"Discount_offered\"].mode())\n",
    "print(data[\"Discount_offered\"].max())\n",
    "print(data[\"Discount_offered\"].min())\n",
    "print(data[\"Discount_offered\"].mean())\n",
    "print(sms.DescrStatsW(data[\"Discount_offered\"]).tconfint_mean())"
   ]
  },
  {
   "cell_type": "code",
   "execution_count": 58,
   "id": "43b4e5e2-815c-40e9-987b-0ed2746fd6fe",
   "metadata": {},
   "outputs": [],
   "source": [
    "def funcforD(x):\n",
    "    if x < 13.36:\n",
    "        return \"LESS\"\n",
    "    elif 13.36 < x > 30:\n",
    "        return \"NORMAL\"\n",
    "    else:\n",
    "        return \"TOO MUCH\""
   ]
  },
  {
   "cell_type": "code",
   "execution_count": 59,
   "id": "978d8a2c-5d79-4c00-9847-cac02cfc6e54",
   "metadata": {},
   "outputs": [],
   "source": [
    "data[\"Discount_offered\"] = data[\"Discount_offered\"].apply(lambda x: funcforD(x))"
   ]
  },
  {
   "cell_type": "code",
   "execution_count": 60,
   "id": "705a814b-fc2f-4725-ad92-21bcfd18a9ac",
   "metadata": {},
   "outputs": [
    {
     "name": "stdout",
     "output_type": "stream",
     "text": [
      "Discount_offered\n",
      "LESS        8514\n",
      "NORMAL      1706\n",
      "TOO MUCH     773\n",
      "Name: count, dtype: int64\n"
     ]
    }
   ],
   "source": [
    "print(data[\"Discount_offered\"].value_counts())"
   ]
  },
  {
   "cell_type": "code",
   "execution_count": 61,
   "id": "84d7e899-dfcc-4555-9877-301b6539fa5f",
   "metadata": {},
   "outputs": [],
   "source": [
    "data[\"Discount_offered\"] = encode.fit_transform(data[\"Discount_offered\"])"
   ]
  },
  {
   "cell_type": "code",
   "execution_count": 62,
   "id": "848fa824-ad47-4066-b859-55ca0db0a696",
   "metadata": {},
   "outputs": [
    {
     "name": "stdout",
     "output_type": "stream",
     "text": [
      "Discount_offered\n",
      "0    8514\n",
      "1    1706\n",
      "2     773\n",
      "Name: count, dtype: int64\n"
     ]
    }
   ],
   "source": [
    "print(data[\"Discount_offered\"].value_counts())"
   ]
  },
  {
   "cell_type": "markdown",
   "id": "47a2ae96-dc2f-4d2c-88df-88120cd86ce4",
   "metadata": {},
   "source": [
    "## Splitting the data into Train and Test"
   ]
  },
  {
   "cell_type": "code",
   "execution_count": 64,
   "id": "f940c299",
   "metadata": {},
   "outputs": [],
   "source": [
    "x = data.drop([\"Reached.on.Time_Y.N\"],axis=1)\n",
    "y = data[\"Reached.on.Time_Y.N\"]"
   ]
  },
  {
   "cell_type": "code",
   "execution_count": 65,
   "id": "805ee713",
   "metadata": {},
   "outputs": [],
   "source": [
    "xTrain,xTest,yTrain,yTest = train_test_split(x,y,test_size=0.2,random_state=42)"
   ]
  },
  {
   "cell_type": "code",
   "execution_count": 66,
   "id": "65fa966f-d937-484b-b288-14e0fd6a5978",
   "metadata": {},
   "outputs": [
    {
     "name": "stdout",
     "output_type": "stream",
     "text": [
      "Index(['Warehouse_block', 'Mode_of_Shipment', 'Customer_care_calls',\n",
      "       'Customer_rating', 'Cost_of_the_Product', 'Prior_purchases',\n",
      "       'Product_importance', 'Gender', 'Discount_offered', 'Weight_in_gms'],\n",
      "      dtype='object')\n"
     ]
    }
   ],
   "source": [
    "print(xTrain.columns)"
   ]
  },
  {
   "cell_type": "code",
   "execution_count": 67,
   "id": "44db1f23-9727-4afb-96d5-2aba6f768435",
   "metadata": {},
   "outputs": [
    {
     "name": "stdout",
     "output_type": "stream",
     "text": [
      "5855    1\n",
      "4714    1\n",
      "8683    1\n",
      "298     1\n",
      "3463    1\n",
      "       ..\n",
      "5740    1\n",
      "5197    0\n",
      "5396    0\n",
      "866     1\n",
      "7276    1\n",
      "Name: Reached.on.Time_Y.N, Length: 8794, dtype: int64\n"
     ]
    }
   ],
   "source": [
    "print(yTrain)"
   ]
  },
  {
   "cell_type": "code",
   "execution_count": 68,
   "id": "82de327a-8249-42ec-8044-04fab99322e1",
   "metadata": {},
   "outputs": [
    {
     "name": "stdout",
     "output_type": "stream",
     "text": [
      "Index(['Warehouse_block', 'Mode_of_Shipment', 'Customer_care_calls',\n",
      "       'Customer_rating', 'Cost_of_the_Product', 'Prior_purchases',\n",
      "       'Product_importance', 'Gender', 'Discount_offered', 'Weight_in_gms'],\n",
      "      dtype='object')\n"
     ]
    }
   ],
   "source": [
    "print(xTest.columns)"
   ]
  },
  {
   "cell_type": "code",
   "execution_count": 69,
   "id": "c4b39f53-1f43-4d3d-8a01-f610b92c9ca5",
   "metadata": {},
   "outputs": [
    {
     "name": "stdout",
     "output_type": "stream",
     "text": [
      "107      1\n",
      "5484     0\n",
      "8445     1\n",
      "10061    0\n",
      "5665     1\n",
      "        ..\n",
      "10548    1\n",
      "5809     0\n",
      "7488     1\n",
      "4632     0\n",
      "5937     0\n",
      "Name: Reached.on.Time_Y.N, Length: 2199, dtype: int64\n"
     ]
    }
   ],
   "source": [
    "print(yTest)"
   ]
  },
  {
   "cell_type": "markdown",
   "id": "e4a872b8",
   "metadata": {},
   "source": [
    "# Training and evaluating models"
   ]
  },
  {
   "cell_type": "code",
   "execution_count": 71,
   "id": "3dc86227-7b6b-48bf-af33-d58d85de54a1",
   "metadata": {},
   "outputs": [],
   "source": [
    "lj = LogisticRegression(solver=\"liblinear\").fit(xTrain,yTrain)\n",
    "gnb = GaussianNB().fit(xTrain,yTrain)\n",
    "knnc = KNeighborsClassifier().fit(xTrain,yTrain)\n",
    "cartc = DecisionTreeClassifier(random_state=42).fit(xTrain,yTrain)\n",
    "rfc = RandomForestClassifier(random_state=42,verbose=False).fit(xTrain,yTrain)\n",
    "gbmc = GradientBoostingClassifier(verbose=False).fit(xTrain,yTrain)\n",
    "xgbc = XGBClassifier().fit(xTrain,yTrain)\n",
    "catbc = CatBoostClassifier(verbose=False).fit(xTrain,yTrain)"
   ]
  },
  {
   "cell_type": "code",
   "execution_count": 72,
   "id": "e80d993a-db18-4483-bf6a-370fe50e4556",
   "metadata": {},
   "outputs": [],
   "source": [
    "modelsc = [lj,gnb,knnc,cartc,rfc,gbmc,xgbc,catbc]"
   ]
  },
  {
   "cell_type": "code",
   "execution_count": 73,
   "id": "218c2585-889c-4962-bd85-489c8e2fbdf2",
   "metadata": {},
   "outputs": [
    {
     "name": "stdout",
     "output_type": "stream",
     "text": [
      "LogisticRegression: \n",
      "----------\n",
      "ACC--> 0.6762164620281946\n",
      "R2CV--> 0.6780282274802822\n",
      "MEAN SQUARED ERROR--> 0.5674255656204765\n",
      "ROC--> (array([0.        , 0.33369923, 1.        ]), array([0.        , 0.68322981, 1.        ]), array([2, 1, 0], dtype=int64))\n",
      "------------------------------\n",
      "GaussianNB: \n",
      "----------\n",
      "ACC--> 0.6384720327421555\n",
      "R2CV--> 0.6384786218347861\n",
      "MEAN SQUARED ERROR--> 0.6012664784978569\n",
      "ROC--> (array([0., 0., 1.]), array([0.        , 0.38276398, 1.        ]), array([2, 1, 0], dtype=int64))\n",
      "------------------------------\n",
      "KNeighborsClassifier: \n",
      "----------\n",
      "ACC--> 0.6703046839472487\n",
      "R2CV--> 0.6634744707347446\n",
      "MEAN SQUARED ERROR--> 0.5801082047904988\n",
      "ROC--> (array([0.        , 0.36772777, 1.        ]), array([0.        , 0.69720497, 1.        ]), array([2, 1, 0], dtype=int64))\n",
      "------------------------------\n",
      "DecisionTreeClassifier: \n",
      "----------\n",
      "ACC--> 0.647112323783538\n",
      "R2CV--> 0.6512079701120796\n",
      "MEAN SQUARED ERROR--> 0.5905861748194926\n",
      "ROC--> (array([0.        , 0.46652031, 1.        ]), array([0.        , 0.72748447, 1.        ]), array([2, 1, 0], dtype=int64))\n",
      "------------------------------\n",
      "RandomForestClassifier: \n",
      "----------\n",
      "ACC--> 0.6743974533879036\n",
      "R2CV--> 0.6653071814030718\n",
      "MEAN SQUARED ERROR--> 0.578526419964489\n",
      "ROC--> (array([0.        , 0.31613611, 1.        ]), array([0.        , 0.66770186, 1.        ]), array([2, 1, 0], dtype=int64))\n",
      "------------------------------\n",
      "GradientBoostingClassifier: \n",
      "----------\n",
      "ACC--> 0.6998635743519782\n",
      "R2CV--> 0.6725757575757576\n",
      "MEAN SQUARED ERROR--> 0.5726070099804821\n",
      "ROC--> (array([0.        , 0.11525796, 1.        ]), array([0.        , 0.56909938, 1.        ]), array([2, 1, 0], dtype=int64))\n",
      "------------------------------\n",
      "XGBClassifier: \n",
      "----------\n",
      "ACC--> 0.6689404274670304\n",
      "R2CV--> 0.6475944375259444\n",
      "MEAN SQUARED ERROR--> 0.5936375682805592\n",
      "ROC--> (array([0.        , 0.33260154, 1.        ]), array([0.        , 0.67003106, 1.        ]), array([2, 1, 0]))\n",
      "------------------------------\n",
      "CatBoostClassifier: \n",
      "----------\n",
      "ACC--> 0.6825829922692133\n",
      "R2CV--> 0.6675840597758407\n",
      "MEAN SQUARED ERROR--> 0.576555236056494\n",
      "ROC--> (array([0.        , 0.25027442, 1.        ]), array([0.        , 0.63509317, 1.        ]), array([2, 1, 0], dtype=int64))\n",
      "------------------------------\n"
     ]
    }
   ],
   "source": [
    "from sklearn.model_selection import cross_val_score\n",
    "from sklearn.metrics import roc_curve\n",
    "for model in modelsc:\n",
    "    name = model.__class__.__name__\n",
    "    predict = model.predict(xTest)\n",
    "    R2CV = cross_val_score(model,xTest,yTest,cv=10,verbose=False).mean()\n",
    "    error = -cross_val_score(model,xTest,yTest,cv=10,scoring=\"neg_mean_squared_error\",verbose=False).mean()\n",
    "    roc = roc_curve(yTest,predict)\n",
    "    print(name + \": \")\n",
    "    print(\"-\" * 10)\n",
    "    print(\"ACC-->\",accuracy_score(yTest,predict))\n",
    "    print(\"R2CV-->\",R2CV)\n",
    "    print(\"MEAN SQUARED ERROR-->\",np.sqrt(error))\n",
    "    print(\"ROC-->\",roc)\n",
    "    print(\"-\" * 30)"
   ]
  },
  {
   "cell_type": "code",
   "execution_count": 74,
   "id": "40ef466e-0523-4ab4-bd2d-e85e3369b783",
   "metadata": {},
   "outputs": [],
   "source": [
    "from sklearn.metrics import accuracy_score, f1_score, recall_score, precision_score\n",
    "def eval(name,model):\n",
    "    y_pred=model.predict(xTest)\n",
    "    result=[]\n",
    "    result.append(name)\n",
    "    result.append(\"{:.2f}\".format(accuracy_score(yTest,y_pred)*100))\n",
    "    result.append(\"{:.2f}\".format(f1_score(yTest,y_pred)*100))\n",
    "    result.append(\"{:.2f}\".format(recall_score(yTest,y_pred)*100))\n",
    "    result.append(\"{:.2f}\".format(precision_score(yTest,y_pred)*100))\n",
    "    return result"
   ]
  },
  {
   "cell_type": "code",
   "execution_count": 75,
   "id": "7e07586c-3fcf-48c3-817a-a51d91d238ec",
   "metadata": {},
   "outputs": [
    {
     "name": "stdout",
     "output_type": "stream",
     "text": [
      "Model Evaluation before Hyper Parameter Tuning\n"
     ]
    },
    {
     "data": {
      "text/html": [
       "<div>\n",
       "<style scoped>\n",
       "    .dataframe tbody tr th:only-of-type {\n",
       "        vertical-align: middle;\n",
       "    }\n",
       "\n",
       "    .dataframe tbody tr th {\n",
       "        vertical-align: top;\n",
       "    }\n",
       "\n",
       "    .dataframe thead th {\n",
       "        text-align: right;\n",
       "    }\n",
       "</style>\n",
       "<table border=\"1\" class=\"dataframe\">\n",
       "  <thead>\n",
       "    <tr style=\"text-align: right;\">\n",
       "      <th></th>\n",
       "      <th>Name</th>\n",
       "      <th>Accuracy</th>\n",
       "      <th>f1_score</th>\n",
       "      <th>Recall</th>\n",
       "      <th>Precision</th>\n",
       "    </tr>\n",
       "  </thead>\n",
       "  <tbody>\n",
       "    <tr>\n",
       "      <th>0</th>\n",
       "      <td>logistic regression</td>\n",
       "      <td>67.62</td>\n",
       "      <td>71.20</td>\n",
       "      <td>68.32</td>\n",
       "      <td>74.32</td>\n",
       "    </tr>\n",
       "    <tr>\n",
       "      <th>1</th>\n",
       "      <td>GaussianNB</td>\n",
       "      <td>63.85</td>\n",
       "      <td>55.36</td>\n",
       "      <td>38.28</td>\n",
       "      <td>100.00</td>\n",
       "    </tr>\n",
       "    <tr>\n",
       "      <th>2</th>\n",
       "      <td>KNeighborsClassifier</td>\n",
       "      <td>67.03</td>\n",
       "      <td>71.24</td>\n",
       "      <td>69.72</td>\n",
       "      <td>72.83</td>\n",
       "    </tr>\n",
       "    <tr>\n",
       "      <th>3</th>\n",
       "      <td>DecisionTreeClassifier</td>\n",
       "      <td>64.71</td>\n",
       "      <td>70.72</td>\n",
       "      <td>72.75</td>\n",
       "      <td>68.80</td>\n",
       "    </tr>\n",
       "    <tr>\n",
       "      <th>4</th>\n",
       "      <td>RandomForestClassifier</td>\n",
       "      <td>67.44</td>\n",
       "      <td>70.61</td>\n",
       "      <td>66.77</td>\n",
       "      <td>74.91</td>\n",
       "    </tr>\n",
       "    <tr>\n",
       "      <th>5</th>\n",
       "      <td>GradientBoostingClassifier</td>\n",
       "      <td>69.99</td>\n",
       "      <td>68.96</td>\n",
       "      <td>56.91</td>\n",
       "      <td>87.47</td>\n",
       "    </tr>\n",
       "    <tr>\n",
       "      <th>6</th>\n",
       "      <td>XGBClassifier</td>\n",
       "      <td>66.89</td>\n",
       "      <td>70.33</td>\n",
       "      <td>67.00</td>\n",
       "      <td>74.01</td>\n",
       "    </tr>\n",
       "    <tr>\n",
       "      <th>7</th>\n",
       "      <td>CatBoostClassifier</td>\n",
       "      <td>68.26</td>\n",
       "      <td>70.09</td>\n",
       "      <td>63.51</td>\n",
       "      <td>78.20</td>\n",
       "    </tr>\n",
       "  </tbody>\n",
       "</table>\n",
       "</div>"
      ],
      "text/plain": [
       "                         Name Accuracy f1_score Recall Precision\n",
       "0         logistic regression    67.62    71.20  68.32     74.32\n",
       "1                  GaussianNB    63.85    55.36  38.28    100.00\n",
       "2        KNeighborsClassifier    67.03    71.24  69.72     72.83\n",
       "3      DecisionTreeClassifier    64.71    70.72  72.75     68.80\n",
       "4      RandomForestClassifier    67.44    70.61  66.77     74.91\n",
       "5  GradientBoostingClassifier    69.99    68.96  56.91     87.47\n",
       "6               XGBClassifier    66.89    70.33  67.00     74.01\n",
       "7          CatBoostClassifier    68.26    70.09  63.51     78.20"
      ]
     },
     "execution_count": 75,
     "metadata": {},
     "output_type": "execute_result"
    }
   ],
   "source": [
    "print(\"Model Evaluation before Hyper Parameter Tuning\")\n",
    "model_list={\n",
    "    'logistic regression':lj,\n",
    "    'GaussianNB':gnb,\n",
    "    'KNeighborsClassifier':knnc,\n",
    "    'DecisionTreeClassifier':cartc,\n",
    "    'RandomForestClassifier':rfc,\n",
    "    'GradientBoostingClassifier':gbmc,\n",
    "    'XGBClassifier':xgbc,\n",
    "    'CatBoostClassifier':catbc\n",
    "}\n",
    "model_eval_info=[]\n",
    "for i in model_list.keys():\n",
    "    model_eval_info.append(eval(i,model_list[i]))\n",
    "model_eval_info=pd.DataFrame(model_eval_info,columns=['Name','Accuracy','f1_score','Recall','Precision'])\n",
    "model_eval_info.to_csv('model_eval.csv')\n",
    "model_eval_info"
   ]
  },
  {
   "cell_type": "code",
   "execution_count": 76,
   "id": "bf038f0d-50b2-4526-ae21-509a8a684500",
   "metadata": {},
   "outputs": [],
   "source": [
    "from sklearn.model_selection import GridSearchCV\n",
    "param_grids = {\n",
    "    'LogisticRegression': {\n",
    "        'solver': ['liblinear', 'lbfgs'],\n",
    "        'C': [0.01, 0.1, 1, 10, 100]\n",
    "    },\n",
    "    'GaussianNB': {\n",
    "        'var_smoothing': [1e-09, 1e-08, 1e-07, 1e-06, 1e-05]\n",
    "    },\n",
    "    'KNeighborsClassifier': {\n",
    "        'n_neighbors': [3, 5, 7, 9, 11],\n",
    "        'weights': ['uniform', 'distance']\n",
    "    },\n",
    "    'DecisionTreeClassifier': {\n",
    "        'max_depth': [3, 5, 7, 9, None],\n",
    "        'min_samples_split': [2, 5, 10],\n",
    "        'min_samples_leaf': [1, 2, 4]\n",
    "    },\n",
    "    'RandomForestClassifier': {\n",
    "        'n_estimators': [50, 100, 200],\n",
    "        'max_depth': [3, 5, 7, 9, None],\n",
    "        'min_samples_split': [2, 5, 10],\n",
    "        'min_samples_leaf': [1, 2, 4]\n",
    "    },\n",
    "    'GradientBoostingClassifier': {\n",
    "        'n_estimators': [50, 100, 200],\n",
    "        'learning_rate': [0.01, 0.1, 0.05],\n",
    "        'max_depth': [3, 5, 7, 9]\n",
    "    },\n",
    "    'XGBClassifier': {\n",
    "        'n_estimators': [50, 100, 200],\n",
    "        'learning_rate': [0.01, 0.1, 0.05],\n",
    "        'max_depth': [3, 5, 7, 9]\n",
    "    },\n",
    "    'CatBoostClassifier': {\n",
    "        'iterations': [50, 100, 200],\n",
    "        'learning_rate': [0.01, 0.1, 0.05],\n",
    "        'depth': [3, 5, 7, 9]\n",
    "    }\n",
    "}\n"
   ]
  },
  {
   "cell_type": "code",
   "execution_count": null,
   "id": "18c60757-f62e-4e3f-9d28-c0e3c3a353df",
   "metadata": {},
   "outputs": [
    {
     "name": "stdout",
     "output_type": "stream",
     "text": [
      "Optimizing LogisticRegression...\n",
      "Fitting 5 folds for each of 10 candidates, totalling 50 fits\n",
      "Best parameters for LogisticRegression: {'C': 0.1, 'solver': 'liblinear'}\n",
      "Best cross-validated accuracy for LogisticRegression: 0.6498758538082385\n",
      "Optimizing GaussianNB...\n",
      "Fitting 5 folds for each of 5 candidates, totalling 25 fits\n",
      "Best parameters for GaussianNB: {'var_smoothing': 1e-07}\n",
      "Best cross-validated accuracy for GaussianNB: 0.6506715665444931\n",
      "Optimizing KNeighborsClassifier...\n",
      "Fitting 5 folds for each of 10 candidates, totalling 50 fits\n",
      "Best parameters for KNeighborsClassifier: {'n_neighbors': 11, 'weights': 'distance'}\n",
      "Best cross-validated accuracy for KNeighborsClassifier: 0.6557889508272424\n",
      "Optimizing DecisionTreeClassifier...\n",
      "Fitting 5 folds for each of 45 candidates, totalling 225 fits\n",
      "Best parameters for DecisionTreeClassifier: {'max_depth': 5, 'min_samples_leaf': 4, 'min_samples_split': 2}\n",
      "Best cross-validated accuracy for DecisionTreeClassifier: 0.6806925022685218\n",
      "Optimizing RandomForestClassifier...\n",
      "Fitting 5 folds for each of 135 candidates, totalling 675 fits\n"
     ]
    }
   ],
   "source": [
    "from sklearn.metrics import make_scorer, accuracy_score\n",
    "\n",
    "best_models = {}\n",
    "for model_name, model in zip(['LogisticRegression', 'GaussianNB', 'KNeighborsClassifier', 'DecisionTreeClassifier', \n",
    "                              'RandomForestClassifier', 'GradientBoostingClassifier', 'XGBClassifier', 'CatBoostClassifier'], modelsc):\n",
    "    print(f\"Optimizing {model_name}...\")\n",
    "    grid_search = GridSearchCV(estimator=model, param_grid=param_grids[model_name], cv=5, scoring='accuracy', verbose=1, n_jobs=-1)\n",
    "    grid_search.fit(xTrain, yTrain)\n",
    "    best_models[model_name] = grid_search.best_estimator_\n",
    "    print(f\"Best parameters for {model_name}: {grid_search.best_params_}\")\n",
    "    print(f\"Best cross-validated accuracy for {model_name}: {grid_search.best_score_}\")"
   ]
  },
  {
   "cell_type": "code",
   "execution_count": null,
   "id": "6e887d21-7674-4973-bb46-2090d8c03728",
   "metadata": {},
   "outputs": [],
   "source": [
    "from sklearn.metrics import accuracy_score, mean_squared_error, roc_curve\n",
    "\n",
    "for name, model in best_models.items():\n",
    "    predict = model.predict(xTest)\n",
    "    R2CV = cross_val_score(model, xTest, yTest, cv=10).mean()\n",
    "    error = -cross_val_score(model, xTest, yTest, cv=10, scoring=\"neg_mean_squared_error\").mean()\n",
    "    roc = roc_curve(yTest, predict)\n",
    "    print(name + \": \")\n",
    "    print(\"-\" * 10)\n",
    "    print(\"ACC-->\", accuracy_score(yTest, predict))\n",
    "    print(\"R2CV-->\", R2CV)\n",
    "    print(\"MEAN SQUARED ERROR-->\", np.sqrt(error))\n",
    "    print(\"ROC-->\", roc)\n",
    "    print(\"-\" * 30)\n"
   ]
  },
  {
   "cell_type": "code",
   "execution_count": null,
   "id": "51f9df12-27b9-4c85-9c9c-ae4678540f4c",
   "metadata": {},
   "outputs": [],
   "source": [
    "from sklearn.metrics import accuracy_score, f1_score, recall_score, precision_score\n",
    "def eval(name,model):\n",
    "    y_pred=model.predict(xTest)\n",
    "    result=[]\n",
    "    result.append(name)\n",
    "    result.append(\"{:.2f}\".format(accuracy_score(yTest,y_pred)*100))\n",
    "    result.append(\"{:.2f}\".format(f1_score(yTest,y_pred)*100))\n",
    "    result.append(\"{:.2f}\".format(recall_score(yTest,y_pred)*100))\n",
    "    result.append(\"{:.2f}\".format(precision_score(yTest,y_pred)*100))\n",
    "    return result"
   ]
  },
  {
   "cell_type": "code",
   "execution_count": null,
   "id": "03e42ebb-2228-4e4d-8c52-d99a199f43a1",
   "metadata": {},
   "outputs": [],
   "source": [
    "print(\"Model Evaluation after Hyper Parameter Tuning\")\n",
    "model_list={\n",
    "    'LogisticRegression': best_models['LogisticRegression'],\n",
    "    'GaussianNB': best_models['GaussianNB'],\n",
    "    'KNeighborsClassifier': best_models['KNeighborsClassifier'],\n",
    "    'DecisionTreeClassifier': best_models['DecisionTreeClassifier'],\n",
    "    'RandomForestClassifier': best_models['RandomForestClassifier'],\n",
    "    'GradientBoostingClassifier': best_models['GradientBoostingClassifier'],\n",
    "    'XGBClassifier': best_models['XGBClassifier'],\n",
    "    'CatBoostClassifier': best_models['CatBoostClassifier']\n",
    "}\n",
    "model_eval_info=[]\n",
    "for i in model_list.keys():\n",
    "    model_eval_info.append(eval(i,model_list[i]))\n",
    "model_eval_info=pd.DataFrame(model_eval_info,columns=['Name','Accuracy','f1_score','Recall','Precision'])\n",
    "model_eval_info.to_csv('model_eval.csv')\n",
    "model_eval_info"
   ]
  },
  {
   "cell_type": "code",
   "execution_count": null,
   "id": "7bb0ccdb",
   "metadata": {},
   "outputs": [],
   "source": [
    "model_list.keys()"
   ]
  },
  {
   "cell_type": "code",
   "execution_count": null,
   "id": "d98a60fc",
   "metadata": {},
   "outputs": [],
   "source": [
    "import pandas as pd\n",
    "import seaborn as sns\n",
    "df = pd.read_csv('model_eval.csv')\n",
    "df"
   ]
  },
  {
   "cell_type": "code",
   "execution_count": null,
   "id": "96152613",
   "metadata": {
    "scrolled": true
   },
   "outputs": [],
   "source": [
    "\n",
    "import matplotlib.pyplot as plt\n",
    "\n",
    "\n",
    "for i in df.columns[2:]:\n",
    "    plt.figure(figsize=(20, 12))\n",
    "    plt.title(i,fontsize=20)\n",
    "    b=sns.barplot(y='Name',x=i,data=df,order=df.sort_values(i,ascending = False).Name)\n",
    "    b.tick_params(labelsize=20)\n",
    "    b.bar_label(b.containers[0])\n",
    "    plt.show()"
   ]
  },
  {
   "cell_type": "code",
   "execution_count": null,
   "id": "2d5db06f-b9cb-4925-9cdc-b0eaae01fb0c",
   "metadata": {},
   "outputs": [],
   "source": [
    "for i in xTest[:10]:\n",
    "    prob=model.predict_proba(i.reshape(1,-1))[0]\n",
    "    n_reach = prob[0]\n",
    "    reach = prob[1]\n",
    "    print(reach,n_reach)\n",
    "    print('There is a {0:.2f} % chance that your product will reach in time and {0:.2f} % chance that your product will not reach in time'.format(reach*100,n_reach*100))\n",
    "    \n",
    "    print(model.predict(i.reshape(1,-1)))"
   ]
  },
  {
   "cell_type": "markdown",
   "id": "b3650e9a",
   "metadata": {},
   "source": [
    "# Saving model"
   ]
  },
  {
   "cell_type": "code",
   "execution_count": null,
   "id": "d523fd35",
   "metadata": {},
   "outputs": [],
   "source": [
    "import pickle as pkl"
   ]
  },
  {
   "cell_type": "code",
   "execution_count": null,
   "id": "4dc4aa50",
   "metadata": {},
   "outputs": [],
   "source": [
    "pkl.dump(xgbc, open('XGBoo_70.pkl', 'wb'))"
   ]
  },
  {
   "cell_type": "code",
   "execution_count": null,
   "id": "b9795a3e-f4df-4e84-8a85-e4110a6630bb",
   "metadata": {},
   "outputs": [],
   "source": [
    "# Load the model\n",
    "model_path = 'XGBoo_70.pkl'\n",
    "with open(model_path, 'rb') as file:\n",
    "    xgbc = pkl.load(file)"
   ]
  },
  {
   "cell_type": "code",
   "execution_count": null,
   "id": "74efaa74-9506-463b-9608-821c7b3808c4",
   "metadata": {},
   "outputs": [],
   "source": []
  }
 ],
 "metadata": {
  "kernelspec": {
   "display_name": "Python 3 (ipykernel)",
   "language": "python",
   "name": "python3"
  },
  "language_info": {
   "codemirror_mode": {
    "name": "ipython",
    "version": 3
   },
   "file_extension": ".py",
   "mimetype": "text/x-python",
   "name": "python",
   "nbconvert_exporter": "python",
   "pygments_lexer": "ipython3",
   "version": "3.11.7"
  }
 },
 "nbformat": 4,
 "nbformat_minor": 5
}
